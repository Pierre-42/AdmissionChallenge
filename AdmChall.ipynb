{
 "cells": [
  {
   "cell_type": "code",
   "execution_count": 3,
   "id": "e20bd270-8770-4183-8f9e-a88bc96bcad8",
   "metadata": {},
   "outputs": [
    {
     "name": "stdout",
     "output_type": "stream",
     "text": [
      "<class 'pandas.core.frame.DataFrame'>\n",
      "RangeIndex: 45315 entries, 0 to 45314\n",
      "Data columns (total 9 columns):\n",
      " #   Column      Non-Null Count  Dtype \n",
      "---  ------      --------------  ----- \n",
      " 0   date        45315 non-null  object\n",
      " 1   home_team   45315 non-null  object\n",
      " 2   away_team   45315 non-null  object\n",
      " 3   home_score  45315 non-null  int64 \n",
      " 4   away_score  45315 non-null  int64 \n",
      " 5   tournament  45315 non-null  object\n",
      " 6   city        45315 non-null  object\n",
      " 7   country     45315 non-null  object\n",
      " 8   neutral     45315 non-null  bool  \n",
      "dtypes: bool(1), int64(2), object(6)\n",
      "memory usage: 2.8+ MB\n"
     ]
    }
   ],
   "source": [
    "import pandas as pd\n",
    "df = pd.read_csv('.//results.csv')\n",
    "df.info()"
   ]
  },
  {
   "cell_type": "code",
   "execution_count": 5,
   "id": "40074832-8020-465f-87ca-78172831294c",
   "metadata": {},
   "outputs": [
    {
     "data": {
      "text/plain": [
       "1.7393136930376256"
      ]
     },
     "execution_count": 5,
     "metadata": {},
     "output_type": "execute_result"
    }
   ],
   "source": [
    "#Q1: What is the average number of goals for the home team?\n",
    "df['home_score'].mean()"
   ]
  },
  {
   "cell_type": "code",
   "execution_count": 56,
   "id": "bc5edae8-5717-4b3b-8604-ee90068a0c69",
   "metadata": {},
   "outputs": [
    {
     "data": {
      "text/plain": [
       "1.1782412004854905"
      ]
     },
     "execution_count": 56,
     "metadata": {},
     "output_type": "execute_result"
    }
   ],
   "source": [
    "#Q2: What is the average number of goals for the away team?\n",
    "df['away_score'].mean()"
   ]
  },
  {
   "cell_type": "code",
   "execution_count": 9,
   "id": "805f9fde-17db-4312-b8d2-1deff860f00a",
   "metadata": {},
   "outputs": [
    {
     "data": {
      "text/plain": [
       "'United States'"
      ]
     },
     "execution_count": 9,
     "metadata": {},
     "output_type": "execute_result"
    }
   ],
   "source": [
    "#Q3: What is the country with the highest overall home score?\n",
    "df2=df.groupby('country')['home_score'].sum()\n",
    "df2.idxmax()"
   ]
  },
  {
   "cell_type": "code",
   "execution_count": 10,
   "id": "04033956-1a69-47fa-a837-55735edb4a28",
   "metadata": {},
   "outputs": [
    {
     "data": {
      "text/plain": [
       "tournament\n",
       "Friendly                        17773\n",
       "FIFA World Cup qualification     8016\n",
       "UEFA Euro qualification          2815\n",
       "Name: count, dtype: int64"
      ]
     },
     "execution_count": 10,
     "metadata": {},
     "output_type": "execute_result"
    }
   ],
   "source": [
    "#Q4: What are the top 3 type of tournaments?\n",
    "df.value_counts(subset='tournament', sort=True).head(3)"
   ]
  },
  {
   "cell_type": "code",
   "execution_count": 11,
   "id": "79c8383a-5f00-459a-b108-0136fc04017f",
   "metadata": {},
   "outputs": [],
   "source": [
    "#Q5: Which country has the highest overall FIFA World Cup goals?\n",
    "#5.1 Create a new dataframe (fifa_df) that only contains rows where the \"tournament\" column == 'FIFA World Cup'.\n",
    "\n",
    "fifa_df=df.loc[df['tournament'] == 'FIFA World Cup']\n"
   ]
  },
  {
   "cell_type": "code",
   "execution_count": 15,
   "id": "6b42340a-015b-4308-b4eb-fa932a05d100",
   "metadata": {},
   "outputs": [
    {
     "name": "stderr",
     "output_type": "stream",
     "text": [
      "/tmp/ipykernel_229/463876364.py:4: SettingWithCopyWarning: \n",
      "A value is trying to be set on a copy of a slice from a DataFrame.\n",
      "Try using .loc[row_indexer,col_indexer] = value instead\n",
      "\n",
      "See the caveats in the documentation: https://pandas.pydata.org/pandas-docs/stable/user_guide/indexing.html#returning-a-view-versus-a-copy\n",
      "  fifa_df['total_score']=fifa_df['away_score']+fifa_df['home_score']\n"
     ]
    }
   ],
   "source": [
    "#Q5: Which country has the highest overall FIFA World Cup goals?\n",
    "#5.2 In your new fifa_df, create a new 'total_score' column that sums 'home_score' + 'away_score' for each row.\n",
    "\n",
    "fifa_df['total_score']=fifa_df['away_score']+fifa_df['home_score']\n",
    "\n"
   ]
  },
  {
   "cell_type": "code",
   "execution_count": 16,
   "id": "93ce24ce-4c8d-448c-955e-70c646fe6ef1",
   "metadata": {},
   "outputs": [
    {
     "data": {
      "text/plain": [
       "'Brazil'"
      ]
     },
     "execution_count": 16,
     "metadata": {},
     "output_type": "execute_result"
    }
   ],
   "source": [
    "#Q5: Which country has the highest overall FIFA World Cup goals?\n",
    "#5.3 Group your data by country, then get the sum of the 'total_score' column. From there, you can use idxmax() to find the country with the highest 'total_score'.\n",
    "\n",
    "fifa_df2=fifa_df.groupby('country')['total_score'].sum()\n",
    "fifa_df2.idxmax()\n"
   ]
  }
 ],
 "metadata": {
  "kernelspec": {
   "display_name": "anaconda-2024.02-py310",
   "language": "python",
   "name": "conda-env-anaconda-2024.02-py310-py"
  },
  "language_info": {
   "codemirror_mode": {
    "name": "ipython",
    "version": 3
   },
   "file_extension": ".py",
   "mimetype": "text/x-python",
   "name": "python",
   "nbconvert_exporter": "python",
   "pygments_lexer": "ipython3",
   "version": "3.10.14"
  }
 },
 "nbformat": 4,
 "nbformat_minor": 5
}
